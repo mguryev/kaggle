{
 "cells": [
  {
   "cell_type": "code",
   "execution_count": null,
   "metadata": {},
   "outputs": [],
   "source": [
    "%matplotlib inline\n",
    "\n",
    "import numpy as np\n",
    "\n",
    "import tensorflow.data as tf_data\n",
    "import tensorflow.keras as keras\n",
    "import tensorflow.keras.regularizers as regularizers\n",
    "import tensorflow.train as train\n",
    "import tensorflow.keras.layers as layers\n",
    "\n",
    "import matplotlib.pyplot as plt"
   ]
  },
  {
   "cell_type": "code",
   "execution_count": null,
   "metadata": {},
   "outputs": [],
   "source": [
    "def load_data(file):\n",
    "    data = np.loadtxt(file, delimiter=',', skiprows=1)\n",
    "    return data\n",
    "\n",
    "def split_train_eval(data, ratio):\n",
    "    rows = data.shape[0]\n",
    "    rows = int(rows * ratio)\n",
    "    train_data, eval_data = np.split(data, [rows,], axis=0)\n",
    "    \n",
    "    return train_data, eval_data\n",
    "\n",
    "def split_x_y(data):\n",
    "    x = data[:, 1:]/256\n",
    "    y = data[:, :1]\n",
    "    \n",
    "    print(x.shape)\n",
    "    print(y.shape)\n",
    "    \n",
    "    return x, y\n",
    "    "
   ]
  },
  {
   "cell_type": "code",
   "execution_count": null,
   "metadata": {},
   "outputs": [],
   "source": [
    "def build_model():\n",
    "    model = keras.Sequential()\n",
    "    \n",
    "    model.add(layers.Reshape((28, 28, 1), input_shape=(784, )))\n",
    "    model.add(layers.Conv2D(filters=10, kernel_size=3, dilation_rate=1, activation='relu', input_shape=(28, 28, 1)))\n",
    "    model.add(layers.Conv2D(filters=5, kernel_size=3, activation='relu'))\n",
    "    model.add(layers.Flatten())\n",
    "    model.add(layers.Dense(10, activation='softmax'))\n",
    "    \n",
    "    model.compile(\n",
    "        optimizer=train.AdamOptimizer(0.001, ),\n",
    "        loss='sparse_categorical_crossentropy',\n",
    "        metrics=['accuracy']\n",
    "    )\n",
    "    \n",
    "    return model"
   ]
  },
  {
   "cell_type": "code",
   "execution_count": null,
   "metadata": {},
   "outputs": [],
   "source": [
    "def best_prediction(predictions):\n",
    "    best_prediction = max(\n",
    "        enumerate(predictions), \n",
    "        key = lambda x: x[1]\n",
    "    )\n",
    "    label = best_prediction[0]\n",
    "    \n",
    "    return label\n",
    "    \n",
    "\n",
    "def visualize_prediction(datum, predictions):\n",
    "    label = int(datum[0])\n",
    "    datum = datum[1:]\n",
    "    \n",
    "    image = datum.reshape(28, 28)\n",
    "    \n",
    "    prediction = best_prediction(predictions)\n",
    "    \n",
    "    plt.title(\"Label: {}, Prediction: {}\".format(label, prediction))\n",
    "    plt.imshow(image, cmap='gray')\n",
    "    plt.show()"
   ]
  },
  {
   "cell_type": "code",
   "execution_count": null,
   "metadata": {},
   "outputs": [],
   "source": [
    "data = load_data('train.csv')\n"
   ]
  },
  {
   "cell_type": "code",
   "execution_count": null,
   "metadata": {},
   "outputs": [],
   "source": [
    "x, y = split_x_y(data)\n"
   ]
  },
  {
   "cell_type": "code",
   "execution_count": null,
   "metadata": {},
   "outputs": [],
   "source": [
    "model = build_model()\n"
   ]
  },
  {
   "cell_type": "code",
   "execution_count": null,
   "metadata": {
    "scrolled": false
   },
   "outputs": [],
   "source": [
    "model.fit(x=x, y=y, batch_size=100, epochs=10, validation_split=0.2, shuffle=True)"
   ]
  },
  {
   "cell_type": "code",
   "execution_count": null,
   "metadata": {},
   "outputs": [],
   "source": [
    "predictions = model.predict(x[:50])"
   ]
  },
  {
   "cell_type": "code",
   "execution_count": null,
   "metadata": {},
   "outputs": [],
   "source": [
    "for prediction, datum in zip(predictions, data):\n",
    "    visualize_prediction(datum, prediction)"
   ]
  },
  {
   "cell_type": "code",
   "execution_count": null,
   "metadata": {},
   "outputs": [],
   "source": [
    "# TODO - flat convolution"
   ]
  }
 ],
 "metadata": {
  "kernelspec": {
   "display_name": "Python 3",
   "language": "python",
   "name": "python3"
  },
  "language_info": {
   "codemirror_mode": {
    "name": "ipython",
    "version": 3
   },
   "file_extension": ".py",
   "mimetype": "text/x-python",
   "name": "python",
   "nbconvert_exporter": "python",
   "pygments_lexer": "ipython3",
   "version": "3.7.3"
  }
 },
 "nbformat": 4,
 "nbformat_minor": 2
}
