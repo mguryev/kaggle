{
 "cells": [
  {
   "cell_type": "code",
   "execution_count": 65,
   "metadata": {},
   "outputs": [],
   "source": [
    "%matplotlib inline\n",
    "%config Application.log_level=\"INFO\"\n",
    "\n",
    "import matplotlib\n",
    "import numpy as np\n",
    "import mxnet as mx\n",
    "\n",
    "import matplotlib.pyplot as plt"
   ]
  },
  {
   "cell_type": "code",
   "execution_count": 66,
   "metadata": {},
   "outputs": [],
   "source": [
    "import logging\n",
    "logging.basicConfig()\n",
    "logger = logging.getLogger('Something')\n",
    "logger.setLevel(logging.DEBUG)"
   ]
  },
  {
   "cell_type": "code",
   "execution_count": 78,
   "metadata": {},
   "outputs": [],
   "source": [
    "def load_data(file):\n",
    "    data = np.loadtxt(file, delimiter=',', skiprows=1)\n",
    "    return data\n",
    "\n",
    "def split_data(data, ratio):\n",
    "    rows = data.shape[0]\n",
    "    rows = int(rows * ratio)\n",
    "    train_data, eval_data = np.split(data, [rows,], axis=0)\n",
    "    return train_data, eval_data\n",
    "\n",
    "def data_to_iter(data, batch_size=10):\n",
    "    y, x = np.split(data, [1], axis=1)\n",
    "    \n",
    "    y = y.flatten()\n",
    "    \n",
    "    data_iter = mx.io.NDArrayIter(\n",
    "        data=x,\n",
    "        label=y,\n",
    "        batch_size=batch_size\n",
    "    )\n",
    "    \n",
    "    return data_iter\n"
   ]
  },
  {
   "cell_type": "code",
   "execution_count": 74,
   "metadata": {},
   "outputs": [],
   "source": [
    "def build_model(context):\n",
    "    data = mx.sym.Variable('data')\n",
    "    data = mx.sym.reshape(data=data, shape=[-1, 28, 28])\n",
    "    \n",
    "    net = mx.sym.FullyConnected(data, num_hidden=64)\n",
    "    net = mx.sym.Activation(net, act_type='relu')\n",
    "    net = mx.sym.FullyConnected(net, num_hidden=10)\n",
    "    net = mx.sym.SoftmaxOutput(net, preserve_shape=True, name='softmax')\n",
    "    \n",
    "    model = mx.mod.Module(\n",
    "        symbol=net,\n",
    "        context=context,\n",
    "        data_names=['data'],\n",
    "        label_names=['softmax_label'],\n",
    "        logger=logger,\n",
    "    )\n",
    "    \n",
    "    return model"
   ]
  },
  {
   "cell_type": "code",
   "execution_count": 69,
   "metadata": {},
   "outputs": [],
   "source": [
    "data = load_data('train.csv')\n"
   ]
  },
  {
   "cell_type": "code",
   "execution_count": 79,
   "metadata": {},
   "outputs": [
    {
     "name": "stdout",
     "output_type": "stream",
     "text": [
      "(33600, 785)\n",
      "(8400, 785)\n"
     ]
    }
   ],
   "source": [
    "train_data, eval_data = split_data(data, 0.8)\n",
    "\n",
    "train_iter = data_to_iter(train_data)\n",
    "eval_iter = data_to_iter(eval_data)\n",
    "\n",
    "print(train_data.shape)\n",
    "print(eval_data.shape)"
   ]
  },
  {
   "cell_type": "code",
   "execution_count": 80,
   "metadata": {},
   "outputs": [],
   "source": [
    "model = build_model(mx.cpu())\n"
   ]
  },
  {
   "cell_type": "code",
   "execution_count": 85,
   "metadata": {},
   "outputs": [
    {
     "name": "stderr",
     "output_type": "stream",
     "text": [
      "WARNING:Something:optimizer already initialized, ignoring...\n",
      "INFO:Something:Epoch[0] Train-accuracy=0.904048\n",
      "INFO:Something:Epoch[0] Time cost=2.202\n",
      "INFO:Something:Epoch[0] Validation-accuracy=0.937976\n",
      "INFO:Something:Epoch[1] Train-accuracy=0.946280\n",
      "INFO:Something:Epoch[1] Time cost=2.155\n",
      "INFO:Something:Epoch[1] Validation-accuracy=0.953095\n",
      "INFO:Something:Epoch[2] Train-accuracy=0.958810\n",
      "INFO:Something:Epoch[2] Time cost=2.238\n",
      "INFO:Something:Epoch[2] Validation-accuracy=0.948095\n",
      "INFO:Something:Epoch[3] Train-accuracy=0.964345\n",
      "INFO:Something:Epoch[3] Time cost=2.177\n",
      "INFO:Something:Epoch[3] Validation-accuracy=0.955119\n",
      "INFO:Something:Epoch[4] Train-accuracy=0.967589\n",
      "INFO:Something:Epoch[4] Time cost=2.247\n",
      "INFO:Something:Epoch[4] Validation-accuracy=0.953929\n",
      "INFO:Something:Epoch[5] Train-accuracy=0.969792\n",
      "INFO:Something:Epoch[5] Time cost=2.201\n",
      "INFO:Something:Epoch[5] Validation-accuracy=0.960357\n",
      "INFO:Something:Epoch[6] Train-accuracy=0.973958\n",
      "INFO:Something:Epoch[6] Time cost=2.298\n",
      "INFO:Something:Epoch[6] Validation-accuracy=0.959405\n",
      "INFO:Something:Epoch[7] Train-accuracy=0.975506\n",
      "INFO:Something:Epoch[7] Time cost=2.235\n",
      "INFO:Something:Epoch[7] Validation-accuracy=0.950833\n",
      "INFO:Something:Epoch[8] Train-accuracy=0.976964\n",
      "INFO:Something:Epoch[8] Time cost=2.182\n",
      "INFO:Something:Epoch[8] Validation-accuracy=0.948810\n",
      "INFO:Something:Epoch[9] Train-accuracy=0.976339\n",
      "INFO:Something:Epoch[9] Time cost=2.264\n",
      "INFO:Something:Epoch[9] Validation-accuracy=0.950714\n",
      "INFO:Something:Epoch[10] Train-accuracy=0.976935\n",
      "INFO:Something:Epoch[10] Time cost=2.147\n",
      "INFO:Something:Epoch[10] Validation-accuracy=0.958452\n",
      "INFO:Something:Epoch[11] Train-accuracy=0.978482\n",
      "INFO:Something:Epoch[11] Time cost=2.184\n",
      "INFO:Something:Epoch[11] Validation-accuracy=0.960595\n",
      "INFO:Something:Epoch[12] Train-accuracy=0.978185\n",
      "INFO:Something:Epoch[12] Time cost=2.143\n",
      "INFO:Something:Epoch[12] Validation-accuracy=0.956786\n",
      "INFO:Something:Epoch[13] Train-accuracy=0.979940\n",
      "INFO:Something:Epoch[13] Time cost=2.136\n",
      "INFO:Something:Epoch[13] Validation-accuracy=0.957143\n",
      "INFO:Something:Epoch[14] Train-accuracy=0.980089\n",
      "INFO:Something:Epoch[14] Time cost=2.194\n",
      "INFO:Something:Epoch[14] Validation-accuracy=0.956190\n",
      "INFO:Something:Epoch[15] Train-accuracy=0.982113\n",
      "INFO:Something:Epoch[15] Time cost=2.139\n",
      "INFO:Something:Epoch[15] Validation-accuracy=0.953214\n",
      "INFO:Something:Epoch[16] Train-accuracy=0.981190\n",
      "INFO:Something:Epoch[16] Time cost=2.243\n",
      "INFO:Something:Epoch[16] Validation-accuracy=0.962500\n",
      "INFO:Something:Epoch[17] Train-accuracy=0.980982\n",
      "INFO:Something:Epoch[17] Time cost=2.079\n",
      "INFO:Something:Epoch[17] Validation-accuracy=0.963810\n",
      "INFO:Something:Epoch[18] Train-accuracy=0.983363\n",
      "INFO:Something:Epoch[18] Time cost=2.184\n",
      "INFO:Something:Epoch[18] Validation-accuracy=0.960833\n",
      "INFO:Something:Epoch[19] Train-accuracy=0.981637\n",
      "INFO:Something:Epoch[19] Time cost=2.205\n",
      "INFO:Something:Epoch[19] Validation-accuracy=0.956786\n",
      "INFO:Something:Epoch[20] Train-accuracy=0.985357\n",
      "INFO:Something:Epoch[20] Time cost=2.206\n",
      "INFO:Something:Epoch[20] Validation-accuracy=0.965119\n",
      "INFO:Something:Epoch[21] Train-accuracy=0.983571\n",
      "INFO:Something:Epoch[21] Time cost=2.190\n",
      "INFO:Something:Epoch[21] Validation-accuracy=0.958333\n",
      "INFO:Something:Epoch[22] Train-accuracy=0.982738\n",
      "INFO:Something:Epoch[22] Time cost=2.302\n",
      "INFO:Something:Epoch[22] Validation-accuracy=0.957262\n",
      "INFO:Something:Epoch[23] Train-accuracy=0.984643\n",
      "INFO:Something:Epoch[23] Time cost=2.243\n",
      "INFO:Something:Epoch[23] Validation-accuracy=0.964881\n",
      "INFO:Something:Epoch[24] Train-accuracy=0.984286\n",
      "INFO:Something:Epoch[24] Time cost=2.220\n",
      "INFO:Something:Epoch[24] Validation-accuracy=0.951786\n",
      "INFO:Something:Epoch[25] Train-accuracy=0.981637\n",
      "INFO:Something:Epoch[25] Time cost=2.267\n",
      "INFO:Something:Epoch[25] Validation-accuracy=0.953690\n",
      "INFO:Something:Epoch[26] Train-accuracy=0.985179\n",
      "INFO:Something:Epoch[26] Time cost=2.242\n",
      "INFO:Something:Epoch[26] Validation-accuracy=0.951786\n",
      "INFO:Something:Epoch[27] Train-accuracy=0.983274\n",
      "INFO:Something:Epoch[27] Time cost=2.295\n",
      "INFO:Something:Epoch[27] Validation-accuracy=0.954048\n",
      "INFO:Something:Epoch[28] Train-accuracy=0.984196\n",
      "INFO:Something:Epoch[28] Time cost=2.259\n",
      "INFO:Something:Epoch[28] Validation-accuracy=0.957976\n",
      "INFO:Something:Epoch[29] Train-accuracy=0.983482\n",
      "INFO:Something:Epoch[29] Time cost=2.187\n",
      "INFO:Something:Epoch[29] Validation-accuracy=0.952857\n",
      "INFO:Something:Epoch[30] Train-accuracy=0.983631\n",
      "INFO:Something:Epoch[30] Time cost=2.140\n",
      "INFO:Something:Epoch[30] Validation-accuracy=0.956786\n",
      "INFO:Something:Epoch[31] Train-accuracy=0.985476\n",
      "INFO:Something:Epoch[31] Time cost=2.283\n",
      "INFO:Something:Epoch[31] Validation-accuracy=0.960595\n",
      "INFO:Something:Epoch[32] Train-accuracy=0.985923\n",
      "INFO:Something:Epoch[32] Time cost=2.204\n",
      "INFO:Something:Epoch[32] Validation-accuracy=0.958571\n",
      "INFO:Something:Epoch[33] Train-accuracy=0.986339\n",
      "INFO:Something:Epoch[33] Time cost=2.219\n",
      "INFO:Something:Epoch[33] Validation-accuracy=0.954524\n",
      "INFO:Something:Epoch[34] Train-accuracy=0.983929\n",
      "INFO:Something:Epoch[34] Time cost=2.205\n",
      "INFO:Something:Epoch[34] Validation-accuracy=0.960238\n",
      "INFO:Something:Epoch[35] Train-accuracy=0.984167\n",
      "INFO:Something:Epoch[35] Time cost=2.271\n",
      "INFO:Something:Epoch[35] Validation-accuracy=0.955714\n",
      "INFO:Something:Epoch[36] Train-accuracy=0.983720\n",
      "INFO:Something:Epoch[36] Time cost=2.192\n",
      "INFO:Something:Epoch[36] Validation-accuracy=0.960119\n",
      "INFO:Something:Epoch[37] Train-accuracy=0.983542\n",
      "INFO:Something:Epoch[37] Time cost=2.231\n",
      "INFO:Something:Epoch[37] Validation-accuracy=0.959286\n",
      "INFO:Something:Epoch[38] Train-accuracy=0.985268\n",
      "INFO:Something:Epoch[38] Time cost=2.301\n",
      "INFO:Something:Epoch[38] Validation-accuracy=0.959762\n",
      "INFO:Something:Epoch[39] Train-accuracy=0.984732\n",
      "INFO:Something:Epoch[39] Time cost=2.295\n",
      "INFO:Something:Epoch[39] Validation-accuracy=0.960238\n",
      "INFO:Something:Epoch[40] Train-accuracy=0.983839\n",
      "INFO:Something:Epoch[40] Time cost=2.141\n",
      "INFO:Something:Epoch[40] Validation-accuracy=0.958214\n",
      "INFO:Something:Epoch[41] Train-accuracy=0.985625\n",
      "INFO:Something:Epoch[41] Time cost=2.290\n",
      "INFO:Something:Epoch[41] Validation-accuracy=0.959881\n",
      "INFO:Something:Epoch[42] Train-accuracy=0.984792\n",
      "INFO:Something:Epoch[42] Time cost=2.203\n",
      "INFO:Something:Epoch[42] Validation-accuracy=0.961071\n",
      "INFO:Something:Epoch[43] Train-accuracy=0.984673\n",
      "INFO:Something:Epoch[43] Time cost=2.211\n",
      "INFO:Something:Epoch[43] Validation-accuracy=0.959405\n",
      "INFO:Something:Epoch[44] Train-accuracy=0.986607\n",
      "INFO:Something:Epoch[44] Time cost=2.316\n",
      "INFO:Something:Epoch[44] Validation-accuracy=0.960595\n"
     ]
    },
    {
     "ename": "KeyboardInterrupt",
     "evalue": "",
     "output_type": "error",
     "traceback": [
      "\u001b[0;31m---------------------------------------------------------------------------\u001b[0m",
      "\u001b[0;31mKeyboardInterrupt\u001b[0m                         Traceback (most recent call last)",
      "\u001b[0;32m<ipython-input-85-8d30a6fc6307>\u001b[0m in \u001b[0;36m<module>\u001b[0;34m\u001b[0m\n\u001b[1;32m      7\u001b[0m     \u001b[0mnum_epoch\u001b[0m\u001b[0;34m=\u001b[0m\u001b[0;36m100\u001b[0m\u001b[0;34m,\u001b[0m\u001b[0;34m\u001b[0m\u001b[0;34m\u001b[0m\u001b[0m\n\u001b[1;32m      8\u001b[0m     \u001b[0mforce_init\u001b[0m\u001b[0;34m=\u001b[0m\u001b[0;32mTrue\u001b[0m\u001b[0;34m,\u001b[0m\u001b[0;34m\u001b[0m\u001b[0;34m\u001b[0m\u001b[0m\n\u001b[0;32m----> 9\u001b[0;31m     \u001b[0mforce_rebind\u001b[0m\u001b[0;34m=\u001b[0m\u001b[0;32mTrue\u001b[0m\u001b[0;34m,\u001b[0m\u001b[0;34m\u001b[0m\u001b[0;34m\u001b[0m\u001b[0m\n\u001b[0m\u001b[1;32m     10\u001b[0m )\n",
      "\u001b[0;32m~/Envs/mnist_nn/lib/python3.6/site-packages/mxnet/module/base_module.py\u001b[0m in \u001b[0;36mfit\u001b[0;34m(self, train_data, eval_data, eval_metric, epoch_end_callback, batch_end_callback, kvstore, optimizer, optimizer_params, eval_end_callback, eval_batch_end_callback, initializer, arg_params, aux_params, allow_missing, force_rebind, force_init, begin_epoch, num_epoch, validation_metric, monitor, sparse_row_id_fn)\u001b[0m\n\u001b[1;32m    538\u001b[0m                 \u001b[0;32melse\u001b[0m\u001b[0;34m:\u001b[0m\u001b[0;34m\u001b[0m\u001b[0;34m\u001b[0m\u001b[0m\n\u001b[1;32m    539\u001b[0m                     \u001b[0mself\u001b[0m\u001b[0;34m.\u001b[0m\u001b[0mupdate_metric\u001b[0m\u001b[0;34m(\u001b[0m\u001b[0meval_metric\u001b[0m\u001b[0;34m,\u001b[0m \u001b[0mdata_batch\u001b[0m\u001b[0;34m.\u001b[0m\u001b[0mlabel\u001b[0m\u001b[0;34m)\u001b[0m\u001b[0;34m\u001b[0m\u001b[0;34m\u001b[0m\u001b[0m\n\u001b[0;32m--> 540\u001b[0;31m                     \u001b[0mself\u001b[0m\u001b[0;34m.\u001b[0m\u001b[0mupdate_metric\u001b[0m\u001b[0;34m(\u001b[0m\u001b[0mepoch_eval_metric\u001b[0m\u001b[0;34m,\u001b[0m \u001b[0mdata_batch\u001b[0m\u001b[0;34m.\u001b[0m\u001b[0mlabel\u001b[0m\u001b[0;34m)\u001b[0m\u001b[0;34m\u001b[0m\u001b[0;34m\u001b[0m\u001b[0m\n\u001b[0m\u001b[1;32m    541\u001b[0m \u001b[0;34m\u001b[0m\u001b[0m\n\u001b[1;32m    542\u001b[0m                 \u001b[0;32mtry\u001b[0m\u001b[0;34m:\u001b[0m\u001b[0;34m\u001b[0m\u001b[0;34m\u001b[0m\u001b[0m\n",
      "\u001b[0;32m~/Envs/mnist_nn/lib/python3.6/site-packages/mxnet/module/module.py\u001b[0m in \u001b[0;36mupdate_metric\u001b[0;34m(self, eval_metric, labels, pre_sliced)\u001b[0m\n\u001b[1;32m    771\u001b[0m             \u001b[0mWhether\u001b[0m \u001b[0mthe\u001b[0m \u001b[0mlabels\u001b[0m \u001b[0mare\u001b[0m \u001b[0malready\u001b[0m \u001b[0msliced\u001b[0m \u001b[0mper\u001b[0m \u001b[0mdevice\u001b[0m \u001b[0;34m(\u001b[0m\u001b[0mdefault\u001b[0m\u001b[0;34m:\u001b[0m \u001b[0;32mFalse\u001b[0m\u001b[0;34m)\u001b[0m\u001b[0;34m.\u001b[0m\u001b[0;34m\u001b[0m\u001b[0;34m\u001b[0m\u001b[0m\n\u001b[1;32m    772\u001b[0m         \"\"\"\n\u001b[0;32m--> 773\u001b[0;31m         \u001b[0mself\u001b[0m\u001b[0;34m.\u001b[0m\u001b[0m_exec_group\u001b[0m\u001b[0;34m.\u001b[0m\u001b[0mupdate_metric\u001b[0m\u001b[0;34m(\u001b[0m\u001b[0meval_metric\u001b[0m\u001b[0;34m,\u001b[0m \u001b[0mlabels\u001b[0m\u001b[0;34m,\u001b[0m \u001b[0mpre_sliced\u001b[0m\u001b[0;34m)\u001b[0m\u001b[0;34m\u001b[0m\u001b[0;34m\u001b[0m\u001b[0m\n\u001b[0m\u001b[1;32m    774\u001b[0m \u001b[0;34m\u001b[0m\u001b[0m\n\u001b[1;32m    775\u001b[0m     \u001b[0;32mdef\u001b[0m \u001b[0m_sync_params_from_devices\u001b[0m\u001b[0;34m(\u001b[0m\u001b[0mself\u001b[0m\u001b[0;34m)\u001b[0m\u001b[0;34m:\u001b[0m\u001b[0;34m\u001b[0m\u001b[0;34m\u001b[0m\u001b[0m\n",
      "\u001b[0;32m~/Envs/mnist_nn/lib/python3.6/site-packages/mxnet/module/executor_group.py\u001b[0m in \u001b[0;36mupdate_metric\u001b[0;34m(self, eval_metric, labels, pre_sliced)\u001b[0m\n\u001b[1;32m    637\u001b[0m             \u001b[0mlabels_\u001b[0m \u001b[0;34m=\u001b[0m \u001b[0mOrderedDict\u001b[0m\u001b[0;34m(\u001b[0m\u001b[0mzip\u001b[0m\u001b[0;34m(\u001b[0m\u001b[0mself\u001b[0m\u001b[0;34m.\u001b[0m\u001b[0mlabel_names\u001b[0m\u001b[0;34m,\u001b[0m \u001b[0mlabels_slice\u001b[0m\u001b[0;34m)\u001b[0m\u001b[0;34m)\u001b[0m\u001b[0;34m\u001b[0m\u001b[0;34m\u001b[0m\u001b[0m\n\u001b[1;32m    638\u001b[0m             \u001b[0mpreds\u001b[0m \u001b[0;34m=\u001b[0m \u001b[0mOrderedDict\u001b[0m\u001b[0;34m(\u001b[0m\u001b[0mzip\u001b[0m\u001b[0;34m(\u001b[0m\u001b[0mself\u001b[0m\u001b[0;34m.\u001b[0m\u001b[0moutput_names\u001b[0m\u001b[0;34m,\u001b[0m \u001b[0mtexec\u001b[0m\u001b[0;34m.\u001b[0m\u001b[0moutputs\u001b[0m\u001b[0;34m)\u001b[0m\u001b[0;34m)\u001b[0m\u001b[0;34m\u001b[0m\u001b[0;34m\u001b[0m\u001b[0m\n\u001b[0;32m--> 639\u001b[0;31m             \u001b[0meval_metric\u001b[0m\u001b[0;34m.\u001b[0m\u001b[0mupdate_dict\u001b[0m\u001b[0;34m(\u001b[0m\u001b[0mlabels_\u001b[0m\u001b[0;34m,\u001b[0m \u001b[0mpreds\u001b[0m\u001b[0;34m)\u001b[0m\u001b[0;34m\u001b[0m\u001b[0;34m\u001b[0m\u001b[0m\n\u001b[0m\u001b[1;32m    640\u001b[0m \u001b[0;34m\u001b[0m\u001b[0m\n\u001b[1;32m    641\u001b[0m     \u001b[0;32mdef\u001b[0m \u001b[0m_bind_ith_exec\u001b[0m\u001b[0;34m(\u001b[0m\u001b[0mself\u001b[0m\u001b[0;34m,\u001b[0m \u001b[0mi\u001b[0m\u001b[0;34m,\u001b[0m \u001b[0mdata_shapes\u001b[0m\u001b[0;34m,\u001b[0m \u001b[0mlabel_shapes\u001b[0m\u001b[0;34m,\u001b[0m \u001b[0mshared_group\u001b[0m\u001b[0;34m)\u001b[0m\u001b[0;34m:\u001b[0m\u001b[0;34m\u001b[0m\u001b[0;34m\u001b[0m\u001b[0m\n",
      "\u001b[0;32m~/Envs/mnist_nn/lib/python3.6/site-packages/mxnet/metric.py\u001b[0m in \u001b[0;36mupdate_dict\u001b[0;34m(self, labels, preds)\u001b[0m\n\u001b[1;32m    302\u001b[0m \u001b[0;34m\u001b[0m\u001b[0m\n\u001b[1;32m    303\u001b[0m         \u001b[0;32mfor\u001b[0m \u001b[0mmetric\u001b[0m \u001b[0;32min\u001b[0m \u001b[0mself\u001b[0m\u001b[0;34m.\u001b[0m\u001b[0mmetrics\u001b[0m\u001b[0;34m:\u001b[0m\u001b[0;34m\u001b[0m\u001b[0;34m\u001b[0m\u001b[0m\n\u001b[0;32m--> 304\u001b[0;31m             \u001b[0mmetric\u001b[0m\u001b[0;34m.\u001b[0m\u001b[0mupdate_dict\u001b[0m\u001b[0;34m(\u001b[0m\u001b[0mlabels\u001b[0m\u001b[0;34m,\u001b[0m \u001b[0mpreds\u001b[0m\u001b[0;34m)\u001b[0m\u001b[0;34m\u001b[0m\u001b[0;34m\u001b[0m\u001b[0m\n\u001b[0m\u001b[1;32m    305\u001b[0m \u001b[0;34m\u001b[0m\u001b[0m\n\u001b[1;32m    306\u001b[0m     \u001b[0;32mdef\u001b[0m \u001b[0mupdate\u001b[0m\u001b[0;34m(\u001b[0m\u001b[0mself\u001b[0m\u001b[0;34m,\u001b[0m \u001b[0mlabels\u001b[0m\u001b[0;34m,\u001b[0m \u001b[0mpreds\u001b[0m\u001b[0;34m)\u001b[0m\u001b[0;34m:\u001b[0m\u001b[0;34m\u001b[0m\u001b[0;34m\u001b[0m\u001b[0m\n",
      "\u001b[0;32m~/Envs/mnist_nn/lib/python3.6/site-packages/mxnet/metric.py\u001b[0m in \u001b[0;36mupdate_dict\u001b[0;34m(self, label, pred)\u001b[0m\n\u001b[1;32m    130\u001b[0m             \u001b[0mlabel\u001b[0m \u001b[0;34m=\u001b[0m \u001b[0mlist\u001b[0m\u001b[0;34m(\u001b[0m\u001b[0mlabel\u001b[0m\u001b[0;34m.\u001b[0m\u001b[0mvalues\u001b[0m\u001b[0;34m(\u001b[0m\u001b[0;34m)\u001b[0m\u001b[0;34m)\u001b[0m\u001b[0;34m\u001b[0m\u001b[0;34m\u001b[0m\u001b[0m\n\u001b[1;32m    131\u001b[0m \u001b[0;34m\u001b[0m\u001b[0m\n\u001b[0;32m--> 132\u001b[0;31m         \u001b[0mself\u001b[0m\u001b[0;34m.\u001b[0m\u001b[0mupdate\u001b[0m\u001b[0;34m(\u001b[0m\u001b[0mlabel\u001b[0m\u001b[0;34m,\u001b[0m \u001b[0mpred\u001b[0m\u001b[0;34m)\u001b[0m\u001b[0;34m\u001b[0m\u001b[0;34m\u001b[0m\u001b[0m\n\u001b[0m\u001b[1;32m    133\u001b[0m \u001b[0;34m\u001b[0m\u001b[0m\n\u001b[1;32m    134\u001b[0m     \u001b[0;32mdef\u001b[0m \u001b[0mupdate\u001b[0m\u001b[0;34m(\u001b[0m\u001b[0mself\u001b[0m\u001b[0;34m,\u001b[0m \u001b[0mlabels\u001b[0m\u001b[0;34m,\u001b[0m \u001b[0mpreds\u001b[0m\u001b[0;34m)\u001b[0m\u001b[0;34m:\u001b[0m\u001b[0;34m\u001b[0m\u001b[0;34m\u001b[0m\u001b[0m\n",
      "\u001b[0;32m~/Envs/mnist_nn/lib/python3.6/site-packages/mxnet/metric.py\u001b[0m in \u001b[0;36mupdate\u001b[0;34m(self, labels, preds)\u001b[0m\n\u001b[1;32m    415\u001b[0m         \u001b[0;32mfor\u001b[0m \u001b[0mlabel\u001b[0m\u001b[0;34m,\u001b[0m \u001b[0mpred_label\u001b[0m \u001b[0;32min\u001b[0m \u001b[0mzip\u001b[0m\u001b[0;34m(\u001b[0m\u001b[0mlabels\u001b[0m\u001b[0;34m,\u001b[0m \u001b[0mpreds\u001b[0m\u001b[0;34m)\u001b[0m\u001b[0;34m:\u001b[0m\u001b[0;34m\u001b[0m\u001b[0;34m\u001b[0m\u001b[0m\n\u001b[1;32m    416\u001b[0m             \u001b[0;32mif\u001b[0m \u001b[0mpred_label\u001b[0m\u001b[0;34m.\u001b[0m\u001b[0mshape\u001b[0m \u001b[0;34m!=\u001b[0m \u001b[0mlabel\u001b[0m\u001b[0;34m.\u001b[0m\u001b[0mshape\u001b[0m\u001b[0;34m:\u001b[0m\u001b[0;34m\u001b[0m\u001b[0;34m\u001b[0m\u001b[0m\n\u001b[0;32m--> 417\u001b[0;31m                 \u001b[0mpred_label\u001b[0m \u001b[0;34m=\u001b[0m \u001b[0mndarray\u001b[0m\u001b[0;34m.\u001b[0m\u001b[0margmax\u001b[0m\u001b[0;34m(\u001b[0m\u001b[0mpred_label\u001b[0m\u001b[0;34m,\u001b[0m \u001b[0maxis\u001b[0m\u001b[0;34m=\u001b[0m\u001b[0mself\u001b[0m\u001b[0;34m.\u001b[0m\u001b[0maxis\u001b[0m\u001b[0;34m)\u001b[0m\u001b[0;34m\u001b[0m\u001b[0;34m\u001b[0m\u001b[0m\n\u001b[0m\u001b[1;32m    418\u001b[0m             \u001b[0mpred_label\u001b[0m \u001b[0;34m=\u001b[0m \u001b[0mpred_label\u001b[0m\u001b[0;34m.\u001b[0m\u001b[0masnumpy\u001b[0m\u001b[0;34m(\u001b[0m\u001b[0;34m)\u001b[0m\u001b[0;34m.\u001b[0m\u001b[0mastype\u001b[0m\u001b[0;34m(\u001b[0m\u001b[0;34m'int32'\u001b[0m\u001b[0;34m)\u001b[0m\u001b[0;34m\u001b[0m\u001b[0;34m\u001b[0m\u001b[0m\n\u001b[1;32m    419\u001b[0m             \u001b[0mlabel\u001b[0m \u001b[0;34m=\u001b[0m \u001b[0mlabel\u001b[0m\u001b[0;34m.\u001b[0m\u001b[0masnumpy\u001b[0m\u001b[0;34m(\u001b[0m\u001b[0;34m)\u001b[0m\u001b[0;34m.\u001b[0m\u001b[0mastype\u001b[0m\u001b[0;34m(\u001b[0m\u001b[0;34m'int32'\u001b[0m\u001b[0;34m)\u001b[0m\u001b[0;34m\u001b[0m\u001b[0;34m\u001b[0m\u001b[0m\n",
      "\u001b[0;32m~/Envs/mnist_nn/lib/python3.6/site-packages/mxnet/ndarray/register.py\u001b[0m in \u001b[0;36margmax\u001b[0;34m(data, axis, keepdims, out, name, **kwargs)\u001b[0m\n",
      "\u001b[0;32m~/Envs/mnist_nn/lib/python3.6/site-packages/mxnet/_ctypes/ndarray.py\u001b[0m in \u001b[0;36m_imperative_invoke\u001b[0;34m(handle, ndargs, keys, vals, out)\u001b[0m\n\u001b[1;32m     90\u001b[0m         \u001b[0mc_str_array\u001b[0m\u001b[0;34m(\u001b[0m\u001b[0mkeys\u001b[0m\u001b[0;34m)\u001b[0m\u001b[0;34m,\u001b[0m\u001b[0;34m\u001b[0m\u001b[0;34m\u001b[0m\u001b[0m\n\u001b[1;32m     91\u001b[0m         \u001b[0mc_str_array\u001b[0m\u001b[0;34m(\u001b[0m\u001b[0;34m[\u001b[0m\u001b[0mstr\u001b[0m\u001b[0;34m(\u001b[0m\u001b[0ms\u001b[0m\u001b[0;34m)\u001b[0m \u001b[0;32mfor\u001b[0m \u001b[0ms\u001b[0m \u001b[0;32min\u001b[0m \u001b[0mvals\u001b[0m\u001b[0;34m]\u001b[0m\u001b[0;34m)\u001b[0m\u001b[0;34m,\u001b[0m\u001b[0;34m\u001b[0m\u001b[0;34m\u001b[0m\u001b[0m\n\u001b[0;32m---> 92\u001b[0;31m         ctypes.byref(out_stypes)))\n\u001b[0m\u001b[1;32m     93\u001b[0m \u001b[0;34m\u001b[0m\u001b[0m\n\u001b[1;32m     94\u001b[0m     \u001b[0;32mif\u001b[0m \u001b[0moriginal_output\u001b[0m \u001b[0;32mis\u001b[0m \u001b[0;32mnot\u001b[0m \u001b[0;32mNone\u001b[0m\u001b[0;34m:\u001b[0m\u001b[0;34m\u001b[0m\u001b[0;34m\u001b[0m\u001b[0m\n",
      "\u001b[0;31mKeyboardInterrupt\u001b[0m: "
     ]
    }
   ],
   "source": [
    "model.fit(\n",
    "    train_data=train_iter,\n",
    "    eval_data=eval_iter,\n",
    "    optimizer='sgd',\n",
    "    optimizer_params={'learning_rate':0.001},\n",
    "    eval_metric=['acc'],\n",
    "    num_epoch=100,\n",
    "    force_init=True,\n",
    "    force_rebind=True,\n",
    ")"
   ]
  },
  {
   "cell_type": "code",
   "execution_count": 84,
   "metadata": {},
   "outputs": [
    {
     "data": {
      "text/plain": [
       "[('loss', 0.10000000002270654), ('accuracy', 0.95)]"
      ]
     },
     "execution_count": 84,
     "metadata": {},
     "output_type": "execute_result"
    }
   ],
   "source": [
    "model.score(eval_iter, ['loss', 'acc'])"
   ]
  },
  {
   "cell_type": "code",
   "execution_count": 53,
   "metadata": {},
   "outputs": [],
   "source": [
    "x = model.predict(eval_iter)"
   ]
  },
  {
   "cell_type": "code",
   "execution_count": 64,
   "metadata": {},
   "outputs": [
    {
     "name": "stdout",
     "output_type": "stream",
     "text": [
      "\n",
      "[9.9990273e-01 7.0241281e-06 5.1534157e-06 2.3766444e-05 4.7366452e-06\n",
      " 9.6804843e-06 1.3643874e-05 8.5173388e-06 1.9752706e-05 5.1248130e-06]\n",
      "<NDArray 10 @cpu(0)>\n",
      "0.0\n"
     ]
    }
   ],
   "source": [
    "print(x[3])\n",
    "print(train_data[3, 784])"
   ]
  }
 ],
 "metadata": {
  "kernelspec": {
   "display_name": "Python 3",
   "language": "python",
   "name": "python3"
  },
  "language_info": {
   "codemirror_mode": {
    "name": "ipython",
    "version": 3
   },
   "file_extension": ".py",
   "mimetype": "text/x-python",
   "name": "python",
   "nbconvert_exporter": "python",
   "pygments_lexer": "ipython3",
   "version": "3.6.8"
  }
 },
 "nbformat": 4,
 "nbformat_minor": 2
}
